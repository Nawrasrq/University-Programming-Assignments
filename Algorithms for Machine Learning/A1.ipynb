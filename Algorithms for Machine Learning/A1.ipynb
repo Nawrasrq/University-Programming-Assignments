{
  "nbformat": 4,
  "nbformat_minor": 0,
  "metadata": {
    "colab": {
      "name": "RawasQalaji_Nawras.ipynb",
      "provenance": [],
      "collapsed_sections": []
    },
    "kernelspec": {
      "name": "python3",
      "display_name": "Python 3"
    },
    "language_info": {
      "name": "python"
    }
  },
  "cells": [
    {
      "cell_type": "code",
      "execution_count": null,
      "metadata": {
        "id": "fYHB5Ioy3bxO"
      },
      "outputs": [],
      "source": [
        "import pandas as pd\n",
        "import numpy as np\n",
        "import matplotlib as mpl\n",
        "import matplotlib.pyplot as plt\n",
        "%matplotlib inline\n",
        "import seaborn as sns\n",
        "import missingno as msno\n",
        "import scipy.stats as st\n",
        "from sklearn import ensemble, tree, linear_model\n",
        "\n",
        "#import hrdata.csv to hrdata dataframe\n",
        "hrdata = pd.read_csv(\"/content/drive/MyDrive/Colab Notebooks/hrdata.csv\")\n",
        "\n",
        "#count columns and rows\n",
        "print(\"Count Columns and rows\")\n",
        "print(\"columns \" + str(hrdata.shape[1]))\n",
        "print(\"rows \" + str(hrdata.shape[0]) + \"\\n\")\n",
        "\n",
        "#describe datafram\n",
        "print(\"\\nDescribe\")\n",
        "print(hrdata.describe())\n"
      ]
    },
    {
      "cell_type": "markdown",
      "source": [
        "Interpretation\n",
        "\n",
        "The mean and std columns are interesting to note, for example in a catagory that only has 1 or 0, the lower the mean the more there are 0's than 1's. The mean is also helpful for showing the averages in a densly populated dataset"
      ],
      "metadata": {
        "id": "pCqkpI_2xh5a"
      }
    },
    {
      "cell_type": "code",
      "source": [
        "#top and bottom 5 rows\n",
        "print(\"\\nTop Five Rows\")\n",
        "print(hrdata.loc[[0,1,2,3,4]])\n",
        "print(\"\\nBottom Five Rows\")\n",
        "print(hrdata.iloc[[-1,-2,-3,-4,-5]])\n",
        "\n",
        "#numerical columns\n",
        "print(\"\\nNumerical Columns\")\n",
        "print(hrdata.select_dtypes(include = [np.number]).columns)\n",
        "\n",
        "#categorical columns\n",
        "print(\"\\nCategorical Columns\")\n",
        "print(hrdata.select_dtypes(include = [np.object]).columns)\n"
      ],
      "metadata": {
        "colab": {
          "base_uri": "https://localhost:8080/"
        },
        "id": "PJDVTTTaxcqE",
        "outputId": "fdc78439-62c2-4994-e510-e909232df0dc"
      },
      "execution_count": 65,
      "outputs": [
        {
          "output_type": "stream",
          "name": "stdout",
          "text": [
            "\n",
            "Top Five Rows\n",
            "   Unnamed: 0  rec_num  enrollee_id  ... target  state city_development_matrics\n",
            "0           0        1         8949  ...    1.0     CA                     9.20\n",
            "1           1        2        29725  ...    0.0     CA                     7.76\n",
            "2           2        3        11561  ...    0.0     CA                     6.24\n",
            "3           3        4        33241  ...    1.0     CA                     7.89\n",
            "4           4        5          666  ...    0.0     CA                     7.67\n",
            "\n",
            "[5 rows x 18 columns]\n",
            "\n",
            "Bottom Five Rows\n",
            "       Unnamed: 0  rec_num  enrollee_id  ... target  state city_development_matrics\n",
            "21286       21286    21287        12215  ...    NaN     CA                     8.04\n",
            "21285       21285    21286         7873  ...    NaN     CA                     8.04\n",
            "21284       21284    21285        31762  ...    NaN     CA                     8.87\n",
            "21283       21283    21284          195  ...    NaN     CA                     8.97\n",
            "21282       21282    21283         1289  ...    NaN     CA                     9.20\n",
            "\n",
            "[5 rows x 18 columns]\n",
            "\n",
            "Numerical Columns\n",
            "Index(['Unnamed: 0', 'rec_num', 'enrollee_id', 'city_development_index',\n",
            "       'training_hours', 'target', 'city_development_matrics'],\n",
            "      dtype='object')\n",
            "\n",
            "Categorical Columns\n",
            "Index(['city', 'gender', 'relevent_experience', 'enrolled_university',\n",
            "       'education_level', 'major_discipline', 'experience', 'company_size',\n",
            "       'company_type', 'last_new_job', 'state'],\n",
            "      dtype='object')\n"
          ]
        }
      ]
    },
    {
      "cell_type": "code",
      "source": [
        "#missing values\n",
        "print(\"\\nMissing Values Numerically\")\n",
        "missingValues = hrdata.isnull().sum().sort_values(ascending = False)\n",
        "print(missingValues)\n",
        "\n",
        "print(\"\\nMissing Values Percentage\")\n",
        "print(missingValues/len(hrdata)*100)\n",
        "\n",
        "#missing values displayed in bar plot\n",
        "print(\"\\nMissing Values plots\")\n",
        "plt.figure()\n",
        "missingValues.sort_values(ascending = True).plot.bar()\n",
        "plt.figure()\n",
        "msno.bar(hrdata)\n",
        "plt.figure()\n",
        "msno.matrix(hrdata.sample(200))\n",
        "plt.figure()\n",
        "msno.heatmap(hrdata) \n"
      ],
      "metadata": {
        "id": "_xD9KRhv9rcc"
      },
      "execution_count": null,
      "outputs": []
    },
    {
      "cell_type": "markdown",
      "source": [
        "Interpretation\n",
        "\n",
        "The heatmap shows that a majority of catagories have little to no correlation to the presence of null values except for company_type and company_size which show a 0.8 positive correlation.\n",
        "\n",
        "The compared to the regular bar plot, the missingno bar plot is more effective in showing how many missing values are in each category. For example you can see that company_type has the most missing values with company_name following close behind"
      ],
      "metadata": {
        "id": "mnvCqNFNxz3p"
      }
    },
    {
      "cell_type": "code",
      "source": [
        "#plot for each object category\n",
        "for catagoryName in hrdata[hrdata.select_dtypes(include = [np.object]).columns]:\n",
        "  plt.figure()\n",
        "  sns.countplot(x = catagoryName, data = hrdata)\n",
        "  plt.show();\n",
        "\n",
        "  plt.figure()\n",
        "  sns.countplot(x = catagoryName, data = hrdata, hue = \"target\")\n",
        "  plt.show();"
      ],
      "metadata": {
        "id": "BaM3beuPx35H"
      },
      "execution_count": null,
      "outputs": []
    },
    {
      "cell_type": "markdown",
      "source": [
        "Interpretations\n",
        "\n",
        "The city plot shows that two paticular cities have way more than the other ones, coming in at first about 5000, then about 3000. Though it is difficult to tell which city unless you looked at the raw data or displayed it in another graph \n",
        "\n",
        "The gender plot shows that there are significantly more males than females in the data set. For all genders the ratio compared to the target appear similar however you could not accurately make this assumation. Resampling may increase the accuracy of the dataset\n",
        "\n",
        "The relevent experience plot shows that there are more of those with the relevent experience than those without\n",
        "\n",
        "The enrolled university plot shows that there are significantly more not enrolled than there are enrolled full time and part time\n",
        "\n",
        "The education level plot shows that a majority in the dataset are graduates\n",
        "\n",
        "The major discipline plot shows that an extremely large majority are those with STEM disciplines. This information is not very useful since most data scientists would likely have STEM disciplines and while you could draw some conclusion there are so few of the other disiplinces so it makes it less accurate.\n",
        "\n",
        "The experience graph shows that a majority of those in the dataset have more than 20 years of experience, while the rest show a relatively varied amount of years of experience with a flat 20 being the least common\n",
        "\n",
        "The company size plot is relatively varied with a company size between 50-99 being the most common\n",
        "\n",
        "The company type plot shows that the most common type of company is the Pvt LTD\n",
        "\n",
        "The last new job plot shows that most have had one year since there last job, while the other years show a similar count\n",
        "\n",
        "The state plot only shows that everyone is from california, this category could probably be removed since it doesn't really reveal any interesting or meaningful conclusions\n",
        "\n"
      ],
      "metadata": {
        "id": "tQhpNSpyx9tQ"
      }
    },
    {
      "cell_type": "code",
      "source": [
        "#plot for each numerical category\n",
        "for catagoryName in hrdata[hrdata.select_dtypes(include = [np.number]).columns]:\n",
        "  plt.figure()\n",
        "  plt.ylabel(\"Count\")\n",
        "  plt.xlabel(catagoryName)\n",
        "  plt.hist(x = catagoryName, data = hrdata)\n",
        "  plt.show()\n",
        "  \n",
        "  plt.figure()\n",
        "  sns.displot(x = catagoryName, data = hrdata, kde=False)\n",
        "  plt.show()"
      ],
      "metadata": {
        "id": "fAgAShSr8xjP"
      },
      "execution_count": null,
      "outputs": []
    },
    {
      "cell_type": "markdown",
      "source": [
        "Interpretations\n",
        "\n",
        "The city_development_index and city_development_matrices plot the exact same data and are redundent. The unnamed, rec_num and enrollee_id plots are not beneficial data to graph as they dont really show any meaningful data and the target plot just visually shows the difference between those not looking and looking for a job change. The rest of the plots are useful in showing their relevent data, training hours shows that as hours increase count tends to decrease, both city_development plots show that as it increases count also tends to increase. "
      ],
      "metadata": {
        "id": "0NBoYiHi8xUq"
      }
    },
    {
      "cell_type": "code",
      "source": [
        "#plot for each numerical category\n",
        "correlationNums = hrdata.select_dtypes(include = [np.number])\n",
        "sns.heatmap(correlationNums.corr()) \n",
        "plt.figure()  \n",
        "plt.show()\n",
        "\n",
        "columns = correlationNums.corr().nlargest(10, \"city_development_matrics\")[\"city_development_matrics\"].index\n",
        "c = np.corrcoef(hrdata[columns].values.T)\n",
        "plt.figure()\n",
        "sns.heatmap(c, annot=True, xticklabels = columns.values, yticklabels = columns.values)\n",
        "\n",
        "plt.figure()\n",
        "sns.scatterplot(x = \"training_hours\", y = \"city_development_index\", data = hrdata)\n",
        "plt.show()"
      ],
      "metadata": {
        "id": "P-vNFvpGYbgH"
      },
      "execution_count": null,
      "outputs": []
    },
    {
      "cell_type": "markdown",
      "source": [
        "Interpretation\n",
        "\n",
        "Scatterplots may not be a very good way to show any correlations for this set of numerical data, the only scatterplot that might be useful is comparing training_hours with city_development_index or city_development_matrics since both city_developments show the same data. That scatterplot shows generally the higher the city_development the more likely someone would have more training hours. \n",
        "The next course of action might be to drop either the city_development_indexs or the city_development_matrics as they hold the same information. Also to possibly only keep one of either: unnammed or rec_num as rec_num is the same as unnammed plus 1. There also isn't really a point to graphing enrollee_id since they are just employee numbers.  "
      ],
      "metadata": {
        "id": "8NTlGy3xhTl_"
      }
    },
    {
      "cell_type": "code",
      "source": [
        "for catagoryName in hrdata[hrdata.select_dtypes(include = [np.number]).columns]:  \n",
        "  plt.figure()\n",
        "  sns.boxplot(x = catagoryName, data = hrdata)\n",
        "  plt.show()"
      ],
      "metadata": {
        "id": "FaXJzEOKhWLZ"
      },
      "execution_count": null,
      "outputs": []
    },
    {
      "cell_type": "markdown",
      "source": [
        "The different values of experience include less than 1 (<1), 1-20 and greater than 20 (>20). You could group the different values into groups 0, 1 and 2 in order to reveal some sort of trend or correlation, however there may be better ways about it."
      ],
      "metadata": {
        "id": "SVqYWg7aiTvp"
      }
    },
    {
      "cell_type": "markdown",
      "source": [
        "Some catagories may be very skewed in certain directions and require some form of rebalancing, for example a huge portion of people are male compared to female and almost all are of a STEM discipline. Also those with more than 20% data missing might need to be removed as it may not be entirely reliable data. \n",
        "Next course of action would probably be to remove one of the city_developments as they show the exact same data and are redundent. I would also remove unnammed as it is an exact copy of rec_num however it begins counting at 0 instead of 1. The state catagory is also not useful as everyone is from california. Enrollee id is not useful plottable data however it could be important for identifying employee information."
      ],
      "metadata": {
        "id": "BZwWZtoQiULx"
      }
    }
  ]
}